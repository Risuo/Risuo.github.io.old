{
 "cells": [
  {
   "cell_type": "code",
   "execution_count": 2,
   "metadata": {},
   "outputs": [],
   "source": [
    "from matplotlib import pyplot as plt\n",
    "import numpy as np\n",
    "from pprint import pprint\n",
    "\n",
    "import warnings\n",
    "\n",
    "import rasterio\n",
    "from rasterio.windows import Window\n",
    "import geopandas as gpd\n",
    "from rasterio.features import rasterize\n",
    "\n",
    "from collections import defaultdict\n",
    "import random\n",
    "\n",
    "from PIL import Image\n",
    "\n",
    "from pystac import (Catalog, CatalogType, Item, Asset, LabelItem, Collection)\n",
    "from shapely.geometry import box, Point, Polygon, MultiPolygon\n",
    "\n",
    "from skimage.util.shape import view_as_windows\n",
    "from skimage import measure\n",
    "\n",
    "import cv2\n",
    "\n",
    "from pycocotools import mask as pycoco_Mask\n",
    "\n",
    "import secrets\n",
    "import os"
   ]
  },
  {
   "cell_type": "code",
   "execution_count": 3,
   "metadata": {},
   "outputs": [],
   "source": [
    "import imageio\n",
    "import numpy as np\n",
    "import imgaug as ia\n",
    "import imgaug.augmenters as iaa\n",
    "from imgaug.augmentables.segmaps import SegmentationMapsOnImage\n",
    "from imgaug.augmentables.batches import UnnormalizedBatch"
   ]
  },
  {
   "cell_type": "code",
   "execution_count": 69,
   "metadata": {},
   "outputs": [
    {
     "name": "stdout",
     "output_type": "stream",
     "text": [
      "/bin/sh: 1: sudo: not found\n",
      "Requirement already satisfied: cython in /usr/local/lib/python3.6/dist-packages (0.29.15)\n",
      "Collecting pycocotools\n",
      "  Downloading pycocotools-2.0.0.tar.gz (1.5 MB)\n",
      "\u001b[K     |████████████████████████████████| 1.5 MB 23.5 MB/s eta 0:00:01\n",
      "\u001b[?25hBuilding wheels for collected packages: pycocotools\n",
      "  Building wheel for pycocotools (setup.py) ... \u001b[?25ldone\n",
      "\u001b[?25h  Created wheel for pycocotools: filename=pycocotools-2.0.0-cp36-cp36m-linux_x86_64.whl size=275976 sha256=1dac38bb895ace89ea5fdb420647c78d10eb379184fde31142accb1ef5ef14ce\n",
      "  Stored in directory: /root/.cache/pip/wheels/64/7a/c0/ac8f633d11a5f1a6902c72acb9fa828a2bb3639afba4e94a6c\n",
      "Successfully built pycocotools\n",
      "Installing collected packages: pycocotools\n",
      "Successfully installed pycocotools-2.0.0\n"
     ]
    }
   ],
   "source": [
    "!pip install cython\n",
    "!pip install pycocotools"
   ]
  },
  {
   "cell_type": "code",
   "execution_count": 26,
   "metadata": {},
   "outputs": [],
   "source": []
  },
  {
   "cell_type": "code",
   "execution_count": 4,
   "metadata": {},
   "outputs": [],
   "source": [
    "train1_cat = Catalog.from_file('/storage/Open_Cities_AI_Challenge/Data/train_tier_1/catalog.json')"
   ]
  },
  {
   "cell_type": "code",
   "execution_count": 5,
   "metadata": {},
   "outputs": [
    {
     "data": {
      "text/plain": [
       "{'acc': <Collection id=acc>,\n",
       " 'mon': <Collection id=mon>,\n",
       " 'ptn': <Collection id=ptn>,\n",
       " 'kam': <Collection id=kam>,\n",
       " 'dar': <Collection id=dar>,\n",
       " 'znz': <Collection id=znz>,\n",
       " 'nia': <Collection id=nia>}"
      ]
     },
     "execution_count": 5,
     "metadata": {},
     "output_type": "execute_result"
    }
   ],
   "source": [
    "collections = {cols.id:cols for cols in train1_cat.get_children()}\n",
    "collections"
   ]
  },
  {
   "cell_type": "code",
   "execution_count": 6,
   "metadata": {},
   "outputs": [],
   "source": [
    "def get_dict_of_collections():\n",
    "    ids = defaultdict(list)\n",
    "    ids_labels = defaultdict(list)\n",
    "    for a in collections:\n",
    "        for i in collections[a].get_all_items():\n",
    "            if 'label' not in i.id:\n",
    "                ids[a].append(i.id)\n",
    "            else:\n",
    "                ids_labels[a].append(i.id)\n",
    "    return ids, ids_labels"
   ]
  },
  {
   "cell_type": "code",
   "execution_count": 7,
   "metadata": {},
   "outputs": [],
   "source": [
    "ids, ids_labels = get_dict_of_collections()"
   ]
  },
  {
   "cell_type": "code",
   "execution_count": 8,
   "metadata": {},
   "outputs": [
    {
     "name": "stdout",
     "output_type": "stream",
     "text": [
      "acc ['665946', 'a42435', 'ca041a', 'd41d81']\n",
      "mon ['401175', '493701', '207cc7', 'f15272']\n",
      "ptn ['abe1a3', 'f49f31']\n",
      "kam ['4e7c7f']\n",
      "dar ['a017f9', 'b15fce', '353093', 'f883a0', '42f235', '0a4c40']\n",
      "znz ['33cae6', '3b20d4', '076995', '75cdfa', '9b8638', '06f252', 'c7415c', 'aee7fd', '3f8360', '425403', 'bd5c14', 'e52478', 'bc32f1']\n",
      "nia ['825a50']\n",
      "acc ['665946-labels', 'a42435-labels', 'ca041a-labels', 'd41d81-labels']\n",
      "mon ['401175-labels', '493701-labels', '207cc7-labels', 'f15272-labels']\n",
      "ptn ['abe1a3-labels', 'f49f31-labels']\n",
      "kam ['4e7c7f-labels']\n",
      "dar ['a017f9-labels', 'b15fce-labels', '353093-labels', 'f883a0-labels', '42f235-labels', '0a4c40-labels']\n",
      "znz ['33cae6-labels', '3b20d4-labels', '076995-labels', '75cdfa-labels', '9b8638-labels', '06f252-labels', 'c7415c-labels', 'aee7fd-labels', '3f8360-labels', '425403-labels', 'bd5c14-labels', 'e52478-labels', 'bc32f1-labels']\n",
      "nia ['825a50-labels']\n"
     ]
    }
   ],
   "source": [
    "for a in ids:\n",
    "    print(a, ids[a])\n",
    "for a in ids_labels:\n",
    "    print(a, ids_labels[a])"
   ]
  },
  {
   "cell_type": "code",
   "execution_count": 9,
   "metadata": {},
   "outputs": [],
   "source": [
    "def get_list_of_collections_no_labels():\n",
    "    ids_list = []\n",
    "    for a in collections:\n",
    "        for i in collections[a].get_all_items():\n",
    "            if 'label' not in i.id:\n",
    "                ids_list.append((a, i.id))\n",
    "    return ids_list"
   ]
  },
  {
   "cell_type": "code",
   "execution_count": 10,
   "metadata": {},
   "outputs": [],
   "source": [
    "def get_list_of_collections_full():\n",
    "    ids_list = []\n",
    "    for a in collections:\n",
    "        for i in collections[a].get_all_items():\n",
    "            ids_list.append((a, i.id))\n",
    "    return ids_list"
   ]
  },
  {
   "cell_type": "code",
   "execution_count": 11,
   "metadata": {},
   "outputs": [],
   "source": [
    "ids_list = get_list_of_collections_no_labels()"
   ]
  },
  {
   "cell_type": "code",
   "execution_count": 12,
   "metadata": {},
   "outputs": [],
   "source": [
    "def build_out_href_ids():\n",
    "    for a in ids:\n",
    "        for i in collections[str(a)].get_all_items():\n",
    "            print(i.id)\n",
    "            #pprint(i.properties)\n",
    "            if 'label' in i.id:\n",
    "                gpd.read_file(i.make_asset_hrefs_absolute().assets['labels'].href)\n",
    "                pass\n",
    "            else: \n",
    "                #print('raster metadata:')\n",
    "                rasterio.open(i.make_asset_hrefs_absolute().assets['image'].href).meta"
   ]
  },
  {
   "cell_type": "code",
   "execution_count": 13,
   "metadata": {},
   "outputs": [
    {
     "name": "stdout",
     "output_type": "stream",
     "text": [
      "665946\n",
      "665946-labels\n",
      "a42435\n",
      "a42435-labels\n",
      "ca041a\n",
      "ca041a-labels\n",
      "d41d81\n",
      "d41d81-labels\n",
      "401175\n",
      "401175-labels\n",
      "493701\n",
      "493701-labels\n",
      "207cc7\n",
      "207cc7-labels\n",
      "f15272\n",
      "f15272-labels\n",
      "abe1a3\n",
      "abe1a3-labels\n",
      "f49f31\n",
      "f49f31-labels\n",
      "4e7c7f\n",
      "4e7c7f-labels\n",
      "a017f9\n",
      "a017f9-labels\n",
      "b15fce\n",
      "b15fce-labels\n",
      "353093\n",
      "353093-labels\n",
      "f883a0\n",
      "f883a0-labels\n",
      "42f235\n",
      "42f235-labels\n",
      "0a4c40\n",
      "0a4c40-labels\n",
      "33cae6\n",
      "33cae6-labels\n",
      "3b20d4\n",
      "3b20d4-labels\n",
      "076995\n",
      "076995-labels\n",
      "75cdfa\n",
      "75cdfa-labels\n",
      "9b8638\n",
      "9b8638-labels\n",
      "06f252\n",
      "06f252-labels\n",
      "c7415c\n",
      "c7415c-labels\n",
      "aee7fd\n",
      "aee7fd-labels\n",
      "3f8360\n",
      "3f8360-labels\n",
      "425403\n",
      "425403-labels\n",
      "bd5c14\n",
      "bd5c14-labels\n",
      "e52478\n",
      "e52478-labels\n",
      "bc32f1\n",
      "bc32f1-labels\n",
      "825a50\n",
      "825a50-labels\n"
     ]
    }
   ],
   "source": [
    "build_out_href_ids()"
   ]
  },
  {
   "cell_type": "code",
   "execution_count": 14,
   "metadata": {},
   "outputs": [],
   "source": [
    "def get_rasters_labels_and_image():\n",
    "    raster_and_label_and_images_list = defaultdict(list)\n",
    "    for a in ids:\n",
    "        for b in ids[a]:\n",
    "            image = collections[str(a)].get_item(id=str(b))\n",
    "            labels = collections[str(a)].get_item(id=str(b)+'-labels')\n",
    "            #labels_gdf = gpd.read_file(labels.assets['labels'].href)\n",
    "            raster = rasterio.open(image.assets['image'].href)\n",
    "            \n",
    "            #print(raster.res)\n",
    "            raster_and_label_and_images_list[a].append([b, raster, labels, image])\n",
    "            \n",
    "    return raster_and_label_and_images_list"
   ]
  },
  {
   "cell_type": "code",
   "execution_count": 15,
   "metadata": {},
   "outputs": [],
   "source": [
    "def center(minx, miny, maxx, maxy):\n",
    "    center_x = (maxx+minx)/2\n",
    "    center_y = (maxy+miny)/2\n",
    "    return(Point(center_x, center_y))\n",
    "\n",
    "def set_random_center_within_poly(x_max, y_max, s, image_poly, raster, y_labels_gdf):\n",
    "    is_center = False\n",
    "    mask_threshold_met = False\n",
    "    mask_ratio_met = False\n",
    "    while not is_center:\n",
    "        while not mask_threshold_met:\n",
    "            x_sample, y_sample = random.randrange(0, x_max), random.randrange(0, y_max)\n",
    "            test_window = Window(x_sample, y_sample, s, s)\n",
    "            test_box = box(*rasterio.windows.bounds(test_window, raster.meta['transform']))\n",
    "            test_box_gdf = gpd.GeoDataFrame(geometry=[test_box], crs=raster.meta['crs'])\n",
    "            with warnings.catch_warnings():\n",
    "            # ignore all caught warnings\n",
    "                warnings.filterwarnings(\"ignore\")\n",
    "            # execute code that will generate warnings\n",
    "                test_box_gdf = test_box_gdf.to_crs({'init':'epsg:4326'})\n",
    "            test_chip = gpd.sjoin(y_labels_gdf, test_box_gdf, how='inner', op='intersects')\n",
    "            test_chip_shapes = [(geom, 255) for geom in test_chip.geometry]\n",
    "            if len(test_chip_shapes) > 3:\n",
    "                mask_threshold_met = True\n",
    "            else:\n",
    "                break\n",
    "            minx, miny, maxx, maxy = [test_box_gdf.bounds[a][0] for a in test_box_gdf.bounds]\n",
    "            center_point = center(minx, miny, maxx, maxy)\n",
    "            is_center = center_point.within(image_poly)\n",
    "            if mask_threshold_met and not is_center:\n",
    "                mask_threshold_met = False\n",
    "    return(x_sample, y_sample)"
   ]
  },
  {
   "cell_type": "code",
   "execution_count": null,
   "metadata": {},
   "outputs": [],
   "source": []
  },
  {
   "cell_type": "code",
   "execution_count": null,
   "metadata": {},
   "outputs": [],
   "source": []
  },
  {
   "cell_type": "code",
   "execution_count": 16,
   "metadata": {},
   "outputs": [],
   "source": [
    "def aug_seq():\n",
    "    seq = iaa.Sequential([\n",
    "        iaa.Fliplr(.5), # horizontal flips\n",
    "        iaa.Flipud(.5), # vertical flips\n",
    "        # Apply affine transformations to each image.\n",
    "        # Scale/zoom them, translate/move them, rotate them and shear them.\n",
    "        iaa.Affine(\n",
    "        #scale={\"x\": (0.8, 1.2), \"y\": (0.8, 1.2)},\n",
    "        #translate_percent={\"x\": (-0.2, 0.2), \"y\": (-0.2, 0.2)},\n",
    "            rotate=(-35, 35),\n",
    "            shear=(-10, 10)),\n",
    "\n",
    "        \n",
    "    ], random_order=True) # apply augmenters in random order\n",
    "    return seq"
   ]
  },
  {
   "cell_type": "code",
   "execution_count": 17,
   "metadata": {},
   "outputs": [],
   "source": [
    "def window_creation(chips_x, chips_y, ISZ):\n",
    "    dim_Max = chips_x.shape[0]\n",
    "    windows = dim_Max // ISZ\n",
    "    x_windows = view_as_windows(chips_x, (ISZ,ISZ,3), ISZ)[:windows,:windows,0,:,:]\n",
    "    y_windows = view_as_windows(chips_y, (ISZ,ISZ), ISZ)[:windows,:windows,:,:]\n",
    "    return x_windows, y_windows, windows\n",
    "\n",
    "def chip_verification(x_windows, y_windows, dim_Max, ISZ, min_label_coverage, max_label_coverage):\n",
    "    images_aug = aug_seq()\n",
    "    \n",
    "    x_chips_verified = []\n",
    "    y_chips_verified = []\n",
    "    for x in range(dim_Max):\n",
    "        for y in range(dim_Max):\n",
    "            label_coverage = np.count_nonzero(y_windows[x][y])/(ISZ*ISZ)\n",
    "            if label_coverage >= min_label_coverage and label_coverage <= max_label_coverage:\n",
    "                \n",
    "                x_aug, y_aug = images_aug(image = x_windows[x][y], segmentation_maps = \n",
    "                                          np.expand_dims(np.expand_dims(\n",
    "                                              np.array(y_windows[x][y]), axis=3), axis = 0))\n",
    "                \n",
    "                #print(x_aug.shape, y_aug.shape)\n",
    "                \n",
    "                x_chips_verified.append(x_aug)\n",
    "                x_chips_verified.append(x_windows[x][y])\n",
    "                y_chips_verified.append(np.squeeze(y_aug))\n",
    "                y_chips_verified.append(y_windows[x][y])\n",
    "    \n",
    "                #x_chips_verified.append(x_windows[x][y])\n",
    "                #y_chips_verified.append(y_windows[x][y])\n",
    "    \n",
    "    return np.array(x_chips_verified), np.expand_dims(np.array(y_chips_verified), axis = 3)"
   ]
  },
  {
   "cell_type": "code",
   "execution_count": null,
   "metadata": {},
   "outputs": [],
   "source": []
  },
  {
   "cell_type": "code",
   "execution_count": 18,
   "metadata": {},
   "outputs": [],
   "source": [
    "def mask_to_polygons(mask, epsilon=.01, min_area=1.):\n",
    "    # __author__ = Konstantin Lopuhin\n",
    "    # https://www.kaggle.com/lopuhin/dstl-satellite-imagery-feature-detection/full-pipeline-demo-poly-pixels-ml-poly\n",
    "\n",
    "    # first, find contours with cv2: it's much faster than shapely\n",
    "    # image, (remove from original) \n",
    "    contours, hierarchy = cv2.findContours(\n",
    "        ((mask == 1) * 255).astype(np.uint8),\n",
    "        cv2.RETR_CCOMP, cv2.CHAIN_APPROX_TC89_KCOS)\n",
    "    # create approximate contours to have reasonable submission size\n",
    "    approx_contours = [cv2.approxPolyDP(cnt, epsilon, True)\n",
    "                       for cnt in contours]\n",
    "    if not contours:\n",
    "        return MultiPolygon()\n",
    "    # now messy stuff to associate parent and child contours\n",
    "    cnt_children = defaultdict(list)\n",
    "    child_contours = set()\n",
    "    assert hierarchy.shape[0] == 1\n",
    "    # http://docs.opencv.org/3.1.0/d9/d8b/tutorial_py_contours_hierarchy.html\n",
    "    for idx, (_, _, _, parent_idx) in enumerate(hierarchy[0]):\n",
    "        if parent_idx != -1:\n",
    "            child_contours.add(idx)\n",
    "            cnt_children[parent_idx].append(approx_contours[idx])\n",
    "    # create actual polygons filtering by area (removes artifacts)\n",
    "    all_polygons = []\n",
    "    for idx, cnt in enumerate(approx_contours):\n",
    "        if idx not in child_contours and cv2.contourArea(cnt) >= min_area:\n",
    "            assert cnt.shape[1] == 1\n",
    "            poly = Polygon(\n",
    "                shell=cnt[:, 0, :],\n",
    "                holes=[c[:, 0, :] for c in cnt_children.get(idx, [])\n",
    "                       if cv2.contourArea(c) >= min_area])\n",
    "            all_polygons.append(poly)\n",
    "    # approximating polygons might have created invalid ones, fix them\n",
    "    all_polygons = MultiPolygon(all_polygons)\n",
    "    if not all_polygons.is_valid:\n",
    "        all_polygons = all_polygons.buffer(0)\n",
    "        # Sometimes buffer() converts a simple Multipolygon to just a Polygon,\n",
    "        # need to keep it a Multi throughout\n",
    "        if all_polygons.type == 'Polygon':\n",
    "            all_polygons = MultiPolygon([all_polygons])\n",
    "    return all_polygons\n",
    "\n",
    "def group_of_polygons(polygon_group, im_size):\n",
    "    polygon_mask_group = []\n",
    "    polygons = [polygon_group.geoms[a] for a in range(len(polygon_group.geoms))]\n",
    "    #polygons = list(polygons)\n",
    "    for _ in polygons:\n",
    "        img_mask = np.zeros([im_size, im_size], np.uint8)\n",
    "        if not polygons:\n",
    "            return img_mask\n",
    "        int_coords = lambda x: np.array(x).round().astype(np.int32)\n",
    "        exterior = int_coords(_.exterior.coords)\n",
    "        interior = [int_coords(pi.coords) for pi in _.interiors]\n",
    "        if len(interior) == 0:\n",
    "            cv2.fillConvexPoly(img_mask, exterior, 1)\n",
    "            cv2.fillPoly(img_mask, interior, 0)\n",
    "        else:\n",
    "            cv2.fillConvexPoly(img_mask, exterior, 1)\n",
    "            cv2.fillPoly(img_mask, interior, 0)\n",
    "        polygon_mask_group.append(img_mask)\n",
    "    return polygon_mask_group"
   ]
  },
  {
   "cell_type": "code",
   "execution_count": null,
   "metadata": {},
   "outputs": [],
   "source": []
  },
  {
   "cell_type": "code",
   "execution_count": 19,
   "metadata": {},
   "outputs": [],
   "source": [
    "def binary_mask_to_polygon(binary_mask, tolerance=0):\n",
    "    \"\"\"Converts a binary mask to COCO polygon representation\n",
    "    Args:\n",
    "        binary_mask: a 2D binary numpy array where '1's represent the object\n",
    "        tolerance: Maximum distance from original points of polygon to approximated\n",
    "            polygonal chain. If tolerance is 0, the original coordinate array is returned.\n",
    "    \"\"\"\n",
    "    polygons = []\n",
    "    # pad mask to close contours of shapes which start and end at an edge\n",
    "    padded_binary_mask = np.pad(binary_mask, pad_width=1, mode='constant', constant_values=0)\n",
    "    contours = measure.find_contours(padded_binary_mask, 0.5)\n",
    "    contours = np.subtract(contours, 1)\n",
    "    for contour in contours:\n",
    "        contour = close_contour(contour)\n",
    "        contour = measure.approximate_polygon(contour, tolerance)\n",
    "        if len(contour) < 3:\n",
    "            continue\n",
    "        contour = np.flip(contour, axis=1)\n",
    "        segmentation = contour.ravel().tolist()\n",
    "        # after padding and subtracting 1 we may get -0.5 points in our segmentation \n",
    "        segmentation = [0.5 if i <= 0 else i for i in segmentation]\n",
    "        #print('segmentation:', segmentation)\n",
    "        polygons.append([segmentation]) # x,y pairs in sequence, no sub-grouping, [] for each polygon mask \n",
    "\n",
    "    return polygons\n",
    "\n",
    "def close_contour(contour):\n",
    "    if not np.array_equal(contour[0], contour[-1]):\n",
    "        contour = np.vstack((contour, contour[0]))\n",
    "    return contour\n",
    "\n",
    "def resize_binary_mask(array, new_size):\n",
    "    image = Image.fromarray(array.astype(np.uint8)*255)\n",
    "    image = image.resize(new_size)\n",
    "    return np.asarray(image).astype(np.bool_)"
   ]
  },
  {
   "cell_type": "code",
   "execution_count": 24,
   "metadata": {},
   "outputs": [],
   "source": [
    "folder_dir = '/storage/Open_Cities_AI_Challenge/Data/train_tier_1/Mask_RCNN Dataset/'"
   ]
  },
  {
   "cell_type": "code",
   "execution_count": 20,
   "metadata": {},
   "outputs": [],
   "source": [
    "def create_meta_image(S = 4096, test = True, ISZ = 512):#, coco_output_train = {}, coco_output_val = {}):\n",
    "    \n",
    "    #coco_output_train = coco_output_train\n",
    "    #coco_output_val = coco_output_val\n",
    "    \n",
    "    s = S\n",
    "\n",
    "    raster_labels_and_images_list = get_rasters_labels_and_image()\n",
    "    \n",
    "    #x_out = np.zeros((meta_x * s, meta_x * s, 3), dtype='uint8')\n",
    "    #y_out = np.zeros((meta_x * s, meta_x * s), dtype='uint8')\n",
    " \n",
    "    added_round_2 = [\n",
    "                     ('znz', 'aee7fd')]\n",
    "\n",
    "    \n",
    "    \n",
    "    #JSON under 100mb in size\n",
    "    already_added = [('znz', 'bd5c14'),('nia', '825a50'),('znz', '06f252'),('znz', '076995'),('znz', '33cae6'),\n",
    "                     ('kam', '4e7c7f'),('znz', 'bc32f1'),('znz', 'c7415c'),('znz', '75cdfa'),\n",
    "                     ('mon', 'f15272'),('acc', 'd41d81'),('acc', 'ca041a'),('znz', '3f8360'),('mon', '493701'),\n",
    "                     ('dar', 'b15fce'),('acc', 'a42435'),('dar', '42f235')]\n",
    "    \n",
    "    \n",
    "    no_initial_results = [('znz', 'aee7fd')]\n",
    "    \n",
    "\n",
    "    broken_window_size = [('znz', '9b8638')] # This is the broken window size dataset\n",
    "    \n",
    "    \n",
    "    # This is a collection of very few buildings, or has sub-sets which are very poorly labeled\n",
    "    ids_maybe_round_two = [('znz', 'e52478'), ('dar', '353093'),('znz', '425403'),('znz', '3b20d4')]\n",
    "    ids_need_manual_selection = [('dar', '0a4c40')]\n",
    "    ids_high_zoom = [('acc', '665946')] # Not included\n",
    "    ids_low_zoom = [('ptn', 'abe1a3'),('ptn', 'f49f31')] # Also not included\n",
    "    \n",
    "    \n",
    "    \n",
    "    \n",
    "    \n",
    "    image_id = 0\n",
    "    segmentation_id = 0\n",
    "    \n",
    "    INFO = {\n",
    "    \"description\": \"Building Dataset - DrivenData Open Cities AI Challenge:\\\n",
    "    Segmenting Buildings for Disaster Resilience\",\n",
    "    \"url\": \"\",\n",
    "    \"version\": \"0.2.0\",\n",
    "    \"year\": 2020,\n",
    "    \"contributor\": \"risuo\",\n",
    "    }\n",
    "\n",
    "    LICENSES = [\n",
    "        {\n",
    "            \"id\": 1,\n",
    "            \"name\": \"Attribution-NonCommercial-ShareAlike License\",\n",
    "            \"url\": \"http://creativecommons.org/licenses/by-nc-sa/2.0/\"\n",
    "        }\n",
    "    ]\n",
    "\n",
    "    CATEGORIES = [\n",
    "        {\n",
    "            'id': 1,\n",
    "            'name': 'buiding',\n",
    "            'supercategory': 'buildings',\n",
    "        },\n",
    "    ]\n",
    "\n",
    "    coco_output_val = {\n",
    "        \"info\": INFO,\n",
    "        \"licenses\": LICENSES,\n",
    "        \"categories\": CATEGORIES,\n",
    "        \"images\": [],\n",
    "        \"annotations\": []\n",
    "    }\n",
    "    \n",
    "    coco_output_trn = {\n",
    "        \"info\": INFO,\n",
    "        \"licenses\": LICENSES,\n",
    "        \"categories\": CATEGORIES,\n",
    "        \"images\": [],\n",
    "        \"annotations\": []\n",
    "    }\n",
    "\n",
    "    for a in added_round_2:\n",
    "        print(a)\n",
    "        for img_indx, item in enumerate(raster_labels_and_images_list[str(a[0])]):\n",
    "            if item[0] == a[1]:\n",
    "\n",
    "                raster   = raster_labels_and_images_list[str(a[0])][img_indx][1]\n",
    "                y_labels = raster_labels_and_images_list[str(a[0])][img_indx][2]\n",
    "                image    = raster_labels_and_images_list[str(a[0])][img_indx][3]\n",
    "                y_labels_gdf = gpd.read_file(y_labels.assets['labels'].href)\n",
    "                x_max = raster.meta['width']\n",
    "                y_max = raster.meta['height']\n",
    "                print('max dimensions:', x_max, y_max)\n",
    "                x_min = 0\n",
    "                y_min = 0\n",
    "                strides_x = (x_max // s) + 1\n",
    "                strides_y = (y_max // s) + 1\n",
    "                print('strides:', strides_x, strides_y)\n",
    "\n",
    "                \n",
    "                for i in range(strides_x):\n",
    "                    for j in range(strides_y):\n",
    "                        #print('stride:', i, j)\n",
    "                        x_sample, y_sample = (x_min + (s * i)), (y_min + (s * j))\n",
    "                        test_window = Window(x_sample, y_sample, s, s)\n",
    "                        test_box = box(*rasterio.windows.bounds(test_window, raster.meta['transform']))\n",
    "                        test_box_gdf = gpd.GeoDataFrame(geometry=[test_box], crs=raster.meta['crs'])\n",
    "                        with warnings.catch_warnings():\n",
    "                            warnings.filterwarnings(\"ignore\")\n",
    "                            test_box_gdf = test_box_gdf.to_crs({'init':'epsg:4326'})\n",
    "                        test_chip = gpd.sjoin(y_labels_gdf, test_box_gdf, how='inner', op='intersects')\n",
    "                        test_chip_shapes = [(geom, 255) for geom in test_chip.geometry]\n",
    "\n",
    "                        \n",
    "                        if len(test_chip_shapes) == 0:\n",
    "                            break\n",
    "                        else:\n",
    "                            x_offset, y_offset = x_sample, y_sample\n",
    "                            window = Window(x_offset, y_offset, s, s)\n",
    "                            win_box = box(*rasterio.windows.bounds(window, raster.meta['transform']))\n",
    "                            win_box_gdf = gpd.GeoDataFrame(geometry=[win_box], crs=raster.meta['crs'])\n",
    "                            \n",
    "\n",
    "                            with warnings.catch_warnings():\n",
    "                                # ignore all caught warnings\n",
    "                                warnings.filterwarnings(\"ignore\")\n",
    "                                # execute code that will generate warnings\n",
    "                                win_box_gdf = win_box_gdf.to_crs({'init':'epsg:4326'})\n",
    "\n",
    "\n",
    "                            win_arr = raster.read(window=window)\n",
    "                            win_arr = np.moveaxis(win_arr, 0, 2)\n",
    "\n",
    "                            x_out = win_arr[:s, :s, 0:3]\n",
    "\n",
    "                            gdf_chip = gpd.sjoin(y_labels_gdf, win_box_gdf, how='inner', op='intersects')\n",
    "                            burn_val = 255\n",
    "                            shapes = [(geom, burn_val) for geom in gdf_chip.geometry]\n",
    "                            chip_tfm = rasterio.transform.from_bounds(*win_box_gdf.bounds.values[0], s, s)\n",
    "\n",
    "                            labels_array_stacked = rasterize(shapes, (s, s), transform=chip_tfm, dtype='uint8')\n",
    "                                          \n",
    "                            y_out = labels_array_stacked[:s, :s]\n",
    "                            \n",
    "                            x_windows, y_windows, dim_Max = window_creation(x_out, y_out, ISZ)\n",
    "                            del x_out, y_out\n",
    "                            \n",
    "\n",
    "                            x_chips_verified, y_chips_verified = chip_verification(x_windows, y_windows, dim_Max, ISZ, \n",
    "                                                                                   min_label_coverage = .10,\n",
    "                                                                                   max_label_coverage = .90)\n",
    "                            \n",
    "                            print(x_chips_verified.shape, y_chips_verified.shape)\n",
    "                            \n",
    "                            #for _ in range(5):\n",
    "                            #    fig, (ax1, ax2) = plt.subplots(1,2,figsize=(10,5))\n",
    "                            #    ax1.imshow(x_chips_verified[_])\n",
    "                            #    ax2.imshow(x_chips_verified[_])\n",
    "                            #    ax2.imshow(np.squeeze(y_chips_verified[_]), alpha=0.5)\n",
    "                            #    plt.show()\n",
    "                            #    plt.close()\n",
    "                            #return\n",
    "                            del x_windows, y_windows\n",
    "                            \n",
    "                            if len(x_chips_verified) < 1:\n",
    "                                break\n",
    "\n",
    "                            print('final shape x_chips_verified, y_chips_verified:', x_chips_verified.shape, y_chips_verified.shape)\n",
    "                            print(len(x_chips_verified))\n",
    "                                \n",
    "                            coco_output_trn, coco_output_val, image_id, segmentation_id = convert_dataset_to_files(x_chips_verified, y_chips_verified, \n",
    "                                                                                                                   coco_output_trn, coco_output_val, \n",
    "                                                                                                                   image_id, segmentation_id, test, ISZ)\n",
    "                                #print(image_id)\n",
    "                                #print(coco_output[\"annotations\"])\n",
    "                            with open('/storage/coco json files/instances_shape_train_' + str(a[0]) + '_' + str(a[1]) + '.json', 'w') as output_json_file_1:\n",
    "                                json.dump(coco_output_trn, output_json_file_1)\n",
    "                            with open('/storage/coco json files/instances_shape_val_' + str(a[0]) + '_' + str(a[1]) + '.json', 'w') as output_json_file_2:\n",
    "                                json.dump(coco_output_val, output_json_file_2)\n"
   ]
  },
  {
   "cell_type": "code",
   "execution_count": 21,
   "metadata": {},
   "outputs": [],
   "source": [
    "import datetime\n",
    "import json\n",
    "import os\n",
    "import re\n",
    "import fnmatch\n",
    "from PIL import Image\n",
    "import numpy as np\n"
   ]
  },
  {
   "cell_type": "code",
   "execution_count": 22,
   "metadata": {},
   "outputs": [],
   "source": [
    "def create_image_info(image_id, file_name, image_size):\n",
    "\n",
    "    image_info = {\n",
    "            \"id\": image_id,\n",
    "            \"file_name\": file_name,\n",
    "            \"width\": image_size[0],\n",
    "            \"height\": image_size[1]\n",
    "    }\n",
    "\n",
    "    return image_info"
   ]
  },
  {
   "cell_type": "code",
   "execution_count": 23,
   "metadata": {},
   "outputs": [],
   "source": [
    "def train_val_split(x_chips_verified, y_chips_verified):\n",
    "    threshold = int((len(x_chips_verified) * .85) // 1)\n",
    "    x_trn, y_trn = x_chips_verified[:threshold], y_chips_verified[:threshold]\n",
    "    x_val, y_val = x_chips_verified[threshold:], y_chips_verified[threshold:]\n",
    "    return x_trn, y_trn, x_val, y_val"
   ]
  },
  {
   "cell_type": "code",
   "execution_count": 24,
   "metadata": {},
   "outputs": [],
   "source": [
    "def convert_dataset_to_files(x_chips_verified, y_chips_verified, coco_output_trn, coco_output_val, image_id, segmentation_id, test, ISZ):\n",
    "    image_id = image_id\n",
    "    segmentation_id = segmentation_id\n",
    "    coco_output_trn = coco_output_trn\n",
    "    coco_output_val = coco_output_val\n",
    "    ISZ = ISZ\n",
    "    print('Converting:', len(x_chips_verified), ':files.')\n",
    "    \n",
    "    x_trn, y_trn, x_val, y_val = train_val_split(x_chips_verified, y_chips_verified)\n",
    "    \n",
    "    for _ in range(len(x_trn)):\n",
    "        x_file = x_trn[_]\n",
    "        y_file = y_trn[_]\n",
    "        name = secrets.token_urlsafe(32)\n",
    "\n",
    "        x_file = Image.fromarray(x_file)\n",
    "        # Formatted for pre-set Google Drive Folder Structure\n",
    "        image_loc_id = '/content/drive/My Drive/Detectron2 Datasets/OCAI Building Segmentation/' + 'train' + '/' + name + '.png'\n",
    "        x_file.save('/storage/output_train_files/' + name + '.png')\n",
    "\n",
    "        \n",
    "        image_info = create_image_info(image_id, image_loc_id, (ISZ, ISZ))\n",
    "        coco_output_trn[\"images\"].append(image_info)\n",
    "\n",
    "        #mask_coordinates = binary_mask_to_polygon(np.squeeze(y_file), tolerance=0)\n",
    "\n",
    "        msk = y_file.clip(max=1)\n",
    "        msk = mask_to_polygons(msk)\n",
    "        msk = group_of_polygons(msk, 512)\n",
    "\n",
    "        for mask in msk:\n",
    "\n",
    "            mask_coordinates = binary_mask_to_polygon(np.squeeze(mask), tolerance=0)\n",
    "            segmentation_id = segmentation_id\n",
    "            class_id = 1\n",
    "            is_crowd = 0\n",
    "            binary_mask = resize_binary_mask(mask, (ISZ, ISZ))\n",
    "            segmentation = mask_coordinates[0]\n",
    "            binary_mask_encoded = pycoco_Mask.encode(np.asfortranarray(binary_mask.astype(np.uint8)))\n",
    "            area = pycoco_Mask.area(binary_mask_encoded)\n",
    "            bounding_box = pycoco_Mask.toBbox(binary_mask_encoded)\n",
    "\n",
    "            annotation_info = {\n",
    "                \"id\": segmentation_id,\n",
    "                \"image_id\": image_id,\n",
    "                \"category_id\": class_id,\n",
    "                \"iscrowd\": is_crowd,\n",
    "                \"area\": area.tolist(),\n",
    "                \"bbox\": bounding_box.tolist(),\n",
    "                \"segmentation\": segmentation,\n",
    "                \"width\": binary_mask.shape[1],\n",
    "                \"height\": binary_mask.shape[0],\n",
    "            }\n",
    "\n",
    "            coco_output_trn[\"annotations\"].append(annotation_info)\n",
    "\n",
    "            segmentation_id += 1\n",
    "        image_id += 1\n",
    "    \n",
    "    for _ in range(len(x_val)):\n",
    "        x_file = x_val[_]\n",
    "        y_file = y_val[_]\n",
    "        name = secrets.token_urlsafe(32)\n",
    "\n",
    "\n",
    "        x_file = Image.fromarray(x_file)\n",
    "        # Formatted for pre-set Google Drive Folder Structure\n",
    "        image_loc_id = '/content/drive/My Drive/Detectron2 Datasets/OCAI Building Segmentation/' + 'val' + '/' + name + '.png'\n",
    "        x_file.save('/storage/output_val_files/' + name + '.png')\n",
    "\n",
    "        image_info = create_image_info(image_id, image_loc_id, (ISZ, ISZ))\n",
    "        coco_output_val[\"images\"].append(image_info)\n",
    "\n",
    "        msk = y_file.clip(max=1)\n",
    "        msk = mask_to_polygons(msk)\n",
    "        msk = group_of_polygons(msk, 512)\n",
    "\n",
    "\n",
    "        for mask in msk:\n",
    "            \n",
    "            mask_coordinates = binary_mask_to_polygon(np.squeeze(mask), tolerance=0)\n",
    "            segmentation_id = segmentation_id\n",
    "            class_id = 1\n",
    "            is_crowd = 0\n",
    "            binary_mask = resize_binary_mask(mask, (ISZ, ISZ))\n",
    "            segmentation = mask_coordinates[0]\n",
    "            binary_mask_encoded = pycoco_Mask.encode(np.asfortranarray(binary_mask.astype(np.uint8)))\n",
    "            area = pycoco_Mask.area(binary_mask_encoded)\n",
    "            bounding_box = pycoco_Mask.toBbox(binary_mask_encoded)\n",
    "\n",
    "            annotation_info = {\n",
    "                \"id\": segmentation_id,\n",
    "                \"image_id\": image_id,\n",
    "                \"category_id\": class_id,\n",
    "                \"iscrowd\": is_crowd,\n",
    "                \"area\": area.tolist(),\n",
    "                \"bbox\": bounding_box.tolist(),\n",
    "                \"segmentation\": segmentation,\n",
    "                \"width\": binary_mask.shape[1],\n",
    "                \"height\": binary_mask.shape[0],\n",
    "            }\n",
    "\n",
    "            coco_output_val[\"annotations\"].append(annotation_info)\n",
    "\n",
    "            segmentation_id += 1\n",
    "        image_id += 1\n",
    "    \n",
    "    \n",
    "    \n",
    "    return coco_output_trn, coco_output_val, image_id, segmentation_id"
   ]
  },
  {
   "cell_type": "code",
   "execution_count": 30,
   "metadata": {},
   "outputs": [],
   "source": [
    "import json\n",
    "\n",
    "with open('/storage/coco json files/instances_shape_train.json') as f:\n",
    "    coco_output_trn = json.load(f)\n",
    "\n",
    "with open('/storage/coco json files/instances_shape_val.json') as g:\n",
    "    coco_output_val = json.load(g)\n"
   ]
  },
  {
   "cell_type": "code",
   "execution_count": 25,
   "metadata": {},
   "outputs": [
    {
     "name": "stdout",
     "output_type": "stream",
     "text": [
      "Variable                            Type           Data/Info\n",
      "------------------------------------------------------------\n",
      "Asset                               type           <class 'pystac.item.Asset'>\n",
      "Catalog                             ABCMeta        <class 'pystac.catalog.Catalog'>\n",
      "CatalogType                         type           <class 'pystac.catalog.CatalogType'>\n",
      "Collection                          ABCMeta        <class 'pystac.collection.Collection'>\n",
      "Image                               module         <module 'PIL.Image' from <...>t-packages/PIL/Image.py'>\n",
      "Item                                ABCMeta        <class 'pystac.item.Item'>\n",
      "LabelItem                           ABCMeta        <class 'pystac.label.LabelItem'>\n",
      "MultiPolygon                        type           <class 'shapely.geometry.<...>ltipolygon.MultiPolygon'>\n",
      "Point                               type           <class 'shapely.geometry.point.Point'>\n",
      "Polygon                             type           <class 'shapely.geometry.polygon.Polygon'>\n",
      "SegmentationMapsOnImage             type           <class 'imgaug.augmentabl<...>SegmentationMapsOnImage'>\n",
      "UnnormalizedBatch                   type           <class 'imgaug.augmentabl<...>tches.UnnormalizedBatch'>\n",
      "Window                              type           <class 'rasterio.windows.Window'>\n",
      "a                                   str            nia\n",
      "aug_seq                             function       <function aug_seq at 0x7fc1c8a3ba60>\n",
      "binary_mask_to_polygon              function       <function binary_mask_to_<...>olygon at 0x7fc1c8a21598>\n",
      "box                                 function       <function box at 0x7fc23c8fdea0>\n",
      "build_out_href_ids                  function       <function build_out_href_ids at 0x7fc1c8b220d0>\n",
      "center                              function       <function center at 0x7fc1c8a3bae8>\n",
      "chip_verification                   function       <function chip_verification at 0x7fc1c8a3bd90>\n",
      "close_contour                       function       <function close_contour at 0x7fc1c8a21620>\n",
      "collections                         dict           n=7\n",
      "convert_dataset_to_files            function       <function convert_dataset<...>_files at 0x7fc1c8a3bc80>\n",
      "create_image_info                   function       <function create_image_info at 0x7fc1c8a3b730>\n",
      "create_meta_image                   function       <function create_meta_image at 0x7fc1c8b22d90>\n",
      "cv2                                 module         <module 'cv2.cv2' from '/<...>36m-x86_64-linux-gnu.so'>\n",
      "datetime                            module         <module 'datetime' from '<...>b/python3.6/datetime.py'>\n",
      "defaultdict                         type           <class 'collections.defaultdict'>\n",
      "fnmatch                             module         <module 'fnmatch' from '/<...>ib/python3.6/fnmatch.py'>\n",
      "get_dict_of_collections             function       <function get_dict_of_col<...>ctions at 0x7fc1c8b221e0>\n",
      "get_list_of_collections_full        function       <function get_list_of_col<...>s_full at 0x7fc1c8b22f28>\n",
      "get_list_of_collections_no_labels   function       <function get_list_of_col<...>labels at 0x7fc24c1427b8>\n",
      "get_rasters_labels_and_image        function       <function get_rasters_lab<...>_image at 0x7fc1c8b22488>\n",
      "gpd                                 module         <module 'geopandas' from <...>s/geopandas/__init__.py'>\n",
      "group_of_polygons                   function       <function group_of_polygons at 0x7fc1c8a212f0>\n",
      "ia                                  module         <module 'imgaug' from '/u<...>ages/imgaug/__init__.py'>\n",
      "iaa                                 module         <module 'imgaug.augmenter<...>/augmenters/__init__.py'>\n",
      "ids                                 defaultdict    defaultdict(<class 'list'<...>f1'], 'nia': ['825a50']})\n",
      "ids_labels                          defaultdict    defaultdict(<class 'list'<...>nia': ['825a50-labels']})\n",
      "ids_list                            list           n=31\n",
      "imageio                             module         <module 'imageio' from '/<...>ges/imageio/__init__.py'>\n",
      "json                                module         <module 'json' from '/usr<...>hon3.6/json/__init__.py'>\n",
      "mask_to_polygons                    function       <function mask_to_polygons at 0x7fc1c8a211e0>\n",
      "measure                             module         <module 'skimage.measure'<...>age/measure/__init__.py'>\n",
      "np                                  module         <module 'numpy' from '/us<...>kages/numpy/__init__.py'>\n",
      "os                                  module         <module 'os' from '/usr/lib/python3.6/os.py'>\n",
      "plt                                 module         <module 'matplotlib.pyplo<...>es/matplotlib/pyplot.py'>\n",
      "pprint                              function       <function pprint at 0x7fc2556730d0>\n",
      "pycoco_Mask                         module         <module 'pycocotools.mask<...>ges/pycocotools/mask.py'>\n",
      "random                              module         <module 'random' from '/u<...>lib/python3.6/random.py'>\n",
      "rasterio                            module         <module 'rasterio' from '<...>es/rasterio/__init__.py'>\n",
      "rasterize                           function       <function rasterize at 0x7fc232ab89d8>\n",
      "re                                  module         <module 're' from '/usr/lib/python3.6/re.py'>\n",
      "resize_binary_mask                  function       <function resize_binary_mask at 0x7fc1c8a217b8>\n",
      "secrets                             module         <module 'secrets' from '/<...>ib/python3.6/secrets.py'>\n",
      "set_random_center_within_poly       function       <function set_random_cent<...>n_poly at 0x7fc1c8a3bb70>\n",
      "train1_cat                          Catalog        <Catalog id=train_tier_1>\n",
      "train_val_split                     function       <function train_val_split at 0x7fc1c8a3b840>\n",
      "view_as_windows                     function       <function view_as_windows at 0x7fc2255a21e0>\n",
      "warnings                            module         <module 'warnings' from '<...>b/python3.6/warnings.py'>\n",
      "window_creation                     function       <function window_creation at 0x7fc1c8a3bd08>\n"
     ]
    }
   ],
   "source": [
    "%whos"
   ]
  },
  {
   "cell_type": "code",
   "execution_count": 26,
   "metadata": {},
   "outputs": [
    {
     "name": "stdout",
     "output_type": "stream",
     "text": [
      "('mon', 'f15272')\n",
      "max dimensions: 20418 17953\n",
      "strides: 5 5\n"
     ]
    },
    {
     "name": "stderr",
     "output_type": "stream",
     "text": [
      "/usr/local/lib/python3.6/dist-packages/ipykernel_launcher.py:20: DeprecationWarning: Both axis > a.ndim and axis < -a.ndim - 1 are deprecated and will raise an AxisError in the future.\n"
     ]
    },
    {
     "name": "stdout",
     "output_type": "stream",
     "text": [
      "(34, 512, 512, 3) (34, 512, 512, 1)\n",
      "final shape x_chips_verified, y_chips_verified: (34, 512, 512, 3) (34, 512, 512, 1)\n",
      "34\n",
      "Converting: 34 :files.\n"
     ]
    },
    {
     "name": "stderr",
     "output_type": "stream",
     "text": [
      "/usr/local/lib/python3.6/dist-packages/ipykernel_launcher.py:20: DeprecationWarning: Both axis > a.ndim and axis < -a.ndim - 1 are deprecated and will raise an AxisError in the future.\n"
     ]
    },
    {
     "name": "stdout",
     "output_type": "stream",
     "text": [
      "(72, 512, 512, 3) (72, 512, 512, 1)\n",
      "final shape x_chips_verified, y_chips_verified: (72, 512, 512, 3) (72, 512, 512, 1)\n",
      "72\n",
      "Converting: 72 :files.\n"
     ]
    },
    {
     "name": "stderr",
     "output_type": "stream",
     "text": [
      "/usr/local/lib/python3.6/dist-packages/ipykernel_launcher.py:20: DeprecationWarning: Both axis > a.ndim and axis < -a.ndim - 1 are deprecated and will raise an AxisError in the future.\n"
     ]
    },
    {
     "name": "stdout",
     "output_type": "stream",
     "text": [
      "(78, 512, 512, 3) (78, 512, 512, 1)\n",
      "final shape x_chips_verified, y_chips_verified: (78, 512, 512, 3) (78, 512, 512, 1)\n",
      "78\n",
      "Converting: 78 :files.\n"
     ]
    },
    {
     "name": "stderr",
     "output_type": "stream",
     "text": [
      "/usr/local/lib/python3.6/dist-packages/ipykernel_launcher.py:20: DeprecationWarning: Both axis > a.ndim and axis < -a.ndim - 1 are deprecated and will raise an AxisError in the future.\n"
     ]
    },
    {
     "name": "stdout",
     "output_type": "stream",
     "text": [
      "(50, 512, 512, 3) (50, 512, 512, 1)\n",
      "final shape x_chips_verified, y_chips_verified: (50, 512, 512, 3) (50, 512, 512, 1)\n",
      "50\n",
      "Converting: 50 :files.\n"
     ]
    },
    {
     "name": "stderr",
     "output_type": "stream",
     "text": [
      "/usr/local/lib/python3.6/dist-packages/ipykernel_launcher.py:20: DeprecationWarning: Both axis > a.ndim and axis < -a.ndim - 1 are deprecated and will raise an AxisError in the future.\n"
     ]
    },
    {
     "name": "stdout",
     "output_type": "stream",
     "text": [
      "(60, 512, 512, 3) (60, 512, 512, 1)\n",
      "final shape x_chips_verified, y_chips_verified: (60, 512, 512, 3) (60, 512, 512, 1)\n",
      "60\n",
      "Converting: 60 :files.\n"
     ]
    },
    {
     "name": "stderr",
     "output_type": "stream",
     "text": [
      "/usr/local/lib/python3.6/dist-packages/ipykernel_launcher.py:20: DeprecationWarning: Both axis > a.ndim and axis < -a.ndim - 1 are deprecated and will raise an AxisError in the future.\n"
     ]
    },
    {
     "name": "stdout",
     "output_type": "stream",
     "text": [
      "(104, 512, 512, 3) (104, 512, 512, 1)\n",
      "final shape x_chips_verified, y_chips_verified: (104, 512, 512, 3) (104, 512, 512, 1)\n",
      "104\n",
      "Converting: 104 :files.\n"
     ]
    },
    {
     "name": "stderr",
     "output_type": "stream",
     "text": [
      "/usr/local/lib/python3.6/dist-packages/ipykernel_launcher.py:20: DeprecationWarning: Both axis > a.ndim and axis < -a.ndim - 1 are deprecated and will raise an AxisError in the future.\n"
     ]
    },
    {
     "name": "stdout",
     "output_type": "stream",
     "text": [
      "(114, 512, 512, 3) (114, 512, 512, 1)\n",
      "final shape x_chips_verified, y_chips_verified: (114, 512, 512, 3) (114, 512, 512, 1)\n",
      "114\n",
      "Converting: 114 :files.\n"
     ]
    },
    {
     "name": "stderr",
     "output_type": "stream",
     "text": [
      "/usr/local/lib/python3.6/dist-packages/ipykernel_launcher.py:20: DeprecationWarning: Both axis > a.ndim and axis < -a.ndim - 1 are deprecated and will raise an AxisError in the future.\n"
     ]
    },
    {
     "name": "stdout",
     "output_type": "stream",
     "text": [
      "(128, 512, 512, 3) (128, 512, 512, 1)\n",
      "final shape x_chips_verified, y_chips_verified: (128, 512, 512, 3) (128, 512, 512, 1)\n",
      "128\n",
      "Converting: 128 :files.\n"
     ]
    },
    {
     "name": "stderr",
     "output_type": "stream",
     "text": [
      "/usr/local/lib/python3.6/dist-packages/ipykernel_launcher.py:20: DeprecationWarning: Both axis > a.ndim and axis < -a.ndim - 1 are deprecated and will raise an AxisError in the future.\n"
     ]
    },
    {
     "name": "stdout",
     "output_type": "stream",
     "text": [
      "(2, 512, 512, 3) (2, 512, 512, 1)\n",
      "final shape x_chips_verified, y_chips_verified: (2, 512, 512, 3) (2, 512, 512, 1)\n",
      "2\n",
      "Converting: 2 :files.\n"
     ]
    },
    {
     "name": "stderr",
     "output_type": "stream",
     "text": [
      "/usr/local/lib/python3.6/dist-packages/ipykernel_launcher.py:32: DeprecationWarning: Both axis > a.ndim and axis < -a.ndim - 1 are deprecated and will raise an AxisError in the future.\n"
     ]
    },
    {
     "name": "stdout",
     "output_type": "stream",
     "text": [
      "(0,) (0, 1)\n",
      "('acc', 'd41d81')\n",
      "max dimensions: 40868 42719\n",
      "strides: 10 11\n"
     ]
    },
    {
     "name": "stderr",
     "output_type": "stream",
     "text": [
      "/usr/local/lib/python3.6/dist-packages/ipykernel_launcher.py:20: DeprecationWarning: Both axis > a.ndim and axis < -a.ndim - 1 are deprecated and will raise an AxisError in the future.\n"
     ]
    },
    {
     "name": "stdout",
     "output_type": "stream",
     "text": [
      "(26, 512, 512, 3) (26, 512, 512, 1)\n",
      "final shape x_chips_verified, y_chips_verified: (26, 512, 512, 3) (26, 512, 512, 1)\n",
      "26\n",
      "Converting: 26 :files.\n"
     ]
    },
    {
     "name": "stderr",
     "output_type": "stream",
     "text": [
      "/usr/local/lib/python3.6/dist-packages/ipykernel_launcher.py:20: DeprecationWarning: Both axis > a.ndim and axis < -a.ndim - 1 are deprecated and will raise an AxisError in the future.\n"
     ]
    },
    {
     "name": "stdout",
     "output_type": "stream",
     "text": [
      "(118, 512, 512, 3) (118, 512, 512, 1)\n",
      "final shape x_chips_verified, y_chips_verified: (118, 512, 512, 3) (118, 512, 512, 1)\n",
      "118\n",
      "Converting: 118 :files.\n"
     ]
    },
    {
     "name": "stderr",
     "output_type": "stream",
     "text": [
      "/usr/local/lib/python3.6/dist-packages/ipykernel_launcher.py:20: DeprecationWarning: Both axis > a.ndim and axis < -a.ndim - 1 are deprecated and will raise an AxisError in the future.\n"
     ]
    },
    {
     "name": "stdout",
     "output_type": "stream",
     "text": [
      "(128, 512, 512, 3) (128, 512, 512, 1)\n",
      "final shape x_chips_verified, y_chips_verified: (128, 512, 512, 3) (128, 512, 512, 1)\n",
      "128\n",
      "Converting: 128 :files.\n"
     ]
    },
    {
     "name": "stderr",
     "output_type": "stream",
     "text": [
      "/usr/local/lib/python3.6/dist-packages/ipykernel_launcher.py:20: DeprecationWarning: Both axis > a.ndim and axis < -a.ndim - 1 are deprecated and will raise an AxisError in the future.\n"
     ]
    },
    {
     "name": "stdout",
     "output_type": "stream",
     "text": [
      "(128, 512, 512, 3) (128, 512, 512, 1)\n",
      "final shape x_chips_verified, y_chips_verified: (128, 512, 512, 3) (128, 512, 512, 1)\n",
      "128\n",
      "Converting: 128 :files.\n"
     ]
    },
    {
     "name": "stderr",
     "output_type": "stream",
     "text": [
      "/usr/local/lib/python3.6/dist-packages/ipykernel_launcher.py:20: DeprecationWarning: Both axis > a.ndim and axis < -a.ndim - 1 are deprecated and will raise an AxisError in the future.\n"
     ]
    },
    {
     "name": "stdout",
     "output_type": "stream",
     "text": [
      "(128, 512, 512, 3) (128, 512, 512, 1)\n",
      "final shape x_chips_verified, y_chips_verified: (128, 512, 512, 3) (128, 512, 512, 1)\n",
      "128\n",
      "Converting: 128 :files.\n"
     ]
    },
    {
     "name": "stderr",
     "output_type": "stream",
     "text": [
      "/usr/local/lib/python3.6/dist-packages/ipykernel_launcher.py:20: DeprecationWarning: Both axis > a.ndim and axis < -a.ndim - 1 are deprecated and will raise an AxisError in the future.\n"
     ]
    },
    {
     "name": "stdout",
     "output_type": "stream",
     "text": [
      "(128, 512, 512, 3) (128, 512, 512, 1)\n",
      "final shape x_chips_verified, y_chips_verified: (128, 512, 512, 3) (128, 512, 512, 1)\n",
      "128\n",
      "Converting: 128 :files.\n"
     ]
    },
    {
     "name": "stderr",
     "output_type": "stream",
     "text": [
      "/usr/local/lib/python3.6/dist-packages/ipykernel_launcher.py:20: DeprecationWarning: Both axis > a.ndim and axis < -a.ndim - 1 are deprecated and will raise an AxisError in the future.\n"
     ]
    },
    {
     "name": "stdout",
     "output_type": "stream",
     "text": [
      "(80, 512, 512, 3) (80, 512, 512, 1)\n",
      "final shape x_chips_verified, y_chips_verified: (80, 512, 512, 3) (80, 512, 512, 1)\n",
      "80\n",
      "Converting: 80 :files.\n"
     ]
    },
    {
     "name": "stderr",
     "output_type": "stream",
     "text": [
      "/usr/local/lib/python3.6/dist-packages/ipykernel_launcher.py:20: DeprecationWarning: Both axis > a.ndim and axis < -a.ndim - 1 are deprecated and will raise an AxisError in the future.\n"
     ]
    },
    {
     "name": "stdout",
     "output_type": "stream",
     "text": [
      "(6, 512, 512, 3) (6, 512, 512, 1)\n",
      "final shape x_chips_verified, y_chips_verified: (6, 512, 512, 3) (6, 512, 512, 1)\n",
      "6\n",
      "Converting: 6 :files.\n"
     ]
    },
    {
     "name": "stderr",
     "output_type": "stream",
     "text": [
      "/usr/local/lib/python3.6/dist-packages/ipykernel_launcher.py:20: DeprecationWarning: Both axis > a.ndim and axis < -a.ndim - 1 are deprecated and will raise an AxisError in the future.\n"
     ]
    },
    {
     "name": "stdout",
     "output_type": "stream",
     "text": [
      "(100, 512, 512, 3) (100, 512, 512, 1)\n",
      "final shape x_chips_verified, y_chips_verified: (100, 512, 512, 3) (100, 512, 512, 1)\n",
      "100\n",
      "Converting: 100 :files.\n"
     ]
    },
    {
     "name": "stderr",
     "output_type": "stream",
     "text": [
      "/usr/local/lib/python3.6/dist-packages/ipykernel_launcher.py:20: DeprecationWarning: Both axis > a.ndim and axis < -a.ndim - 1 are deprecated and will raise an AxisError in the future.\n"
     ]
    },
    {
     "name": "stdout",
     "output_type": "stream",
     "text": [
      "(128, 512, 512, 3) (128, 512, 512, 1)\n",
      "final shape x_chips_verified, y_chips_verified: (128, 512, 512, 3) (128, 512, 512, 1)\n",
      "128\n",
      "Converting: 128 :files.\n"
     ]
    },
    {
     "name": "stderr",
     "output_type": "stream",
     "text": [
      "/usr/local/lib/python3.6/dist-packages/ipykernel_launcher.py:20: DeprecationWarning: Both axis > a.ndim and axis < -a.ndim - 1 are deprecated and will raise an AxisError in the future.\n"
     ]
    },
    {
     "name": "stdout",
     "output_type": "stream",
     "text": [
      "(128, 512, 512, 3) (128, 512, 512, 1)\n",
      "final shape x_chips_verified, y_chips_verified: (128, 512, 512, 3) (128, 512, 512, 1)\n",
      "128\n",
      "Converting: 128 :files.\n"
     ]
    },
    {
     "name": "stderr",
     "output_type": "stream",
     "text": [
      "/usr/local/lib/python3.6/dist-packages/ipykernel_launcher.py:20: DeprecationWarning: Both axis > a.ndim and axis < -a.ndim - 1 are deprecated and will raise an AxisError in the future.\n"
     ]
    },
    {
     "name": "stdout",
     "output_type": "stream",
     "text": [
      "(126, 512, 512, 3) (126, 512, 512, 1)\n",
      "final shape x_chips_verified, y_chips_verified: (126, 512, 512, 3) (126, 512, 512, 1)\n",
      "126\n",
      "Converting: 126 :files.\n"
     ]
    },
    {
     "name": "stderr",
     "output_type": "stream",
     "text": [
      "/usr/local/lib/python3.6/dist-packages/ipykernel_launcher.py:20: DeprecationWarning: Both axis > a.ndim and axis < -a.ndim - 1 are deprecated and will raise an AxisError in the future.\n"
     ]
    },
    {
     "name": "stdout",
     "output_type": "stream",
     "text": [
      "(124, 512, 512, 3) (124, 512, 512, 1)\n",
      "final shape x_chips_verified, y_chips_verified: (124, 512, 512, 3) (124, 512, 512, 1)\n",
      "124\n",
      "Converting: 124 :files.\n"
     ]
    },
    {
     "name": "stderr",
     "output_type": "stream",
     "text": [
      "/usr/local/lib/python3.6/dist-packages/ipykernel_launcher.py:20: DeprecationWarning: Both axis > a.ndim and axis < -a.ndim - 1 are deprecated and will raise an AxisError in the future.\n"
     ]
    },
    {
     "name": "stdout",
     "output_type": "stream",
     "text": [
      "(118, 512, 512, 3) (118, 512, 512, 1)\n",
      "final shape x_chips_verified, y_chips_verified: (118, 512, 512, 3) (118, 512, 512, 1)\n",
      "118\n",
      "Converting: 118 :files.\n"
     ]
    },
    {
     "name": "stderr",
     "output_type": "stream",
     "text": [
      "/usr/local/lib/python3.6/dist-packages/ipykernel_launcher.py:20: DeprecationWarning: Both axis > a.ndim and axis < -a.ndim - 1 are deprecated and will raise an AxisError in the future.\n"
     ]
    },
    {
     "name": "stdout",
     "output_type": "stream",
     "text": [
      "(20, 512, 512, 3) (20, 512, 512, 1)\n",
      "final shape x_chips_verified, y_chips_verified: (20, 512, 512, 3) (20, 512, 512, 1)\n",
      "20\n",
      "Converting: 20 :files.\n"
     ]
    },
    {
     "name": "stderr",
     "output_type": "stream",
     "text": [
      "/usr/local/lib/python3.6/dist-packages/ipykernel_launcher.py:20: DeprecationWarning: Both axis > a.ndim and axis < -a.ndim - 1 are deprecated and will raise an AxisError in the future.\n"
     ]
    },
    {
     "name": "stdout",
     "output_type": "stream",
     "text": [
      "(6, 512, 512, 3) (6, 512, 512, 1)\n",
      "final shape x_chips_verified, y_chips_verified: (6, 512, 512, 3) (6, 512, 512, 1)\n",
      "6\n",
      "Converting: 6 :files.\n"
     ]
    },
    {
     "name": "stderr",
     "output_type": "stream",
     "text": [
      "/usr/local/lib/python3.6/dist-packages/ipykernel_launcher.py:20: DeprecationWarning: Both axis > a.ndim and axis < -a.ndim - 1 are deprecated and will raise an AxisError in the future.\n"
     ]
    },
    {
     "name": "stdout",
     "output_type": "stream",
     "text": [
      "(96, 512, 512, 3) (96, 512, 512, 1)\n",
      "final shape x_chips_verified, y_chips_verified: (96, 512, 512, 3) (96, 512, 512, 1)\n",
      "96\n",
      "Converting: 96 :files.\n"
     ]
    },
    {
     "name": "stderr",
     "output_type": "stream",
     "text": [
      "/usr/local/lib/python3.6/dist-packages/ipykernel_launcher.py:20: DeprecationWarning: Both axis > a.ndim and axis < -a.ndim - 1 are deprecated and will raise an AxisError in the future.\n"
     ]
    },
    {
     "name": "stdout",
     "output_type": "stream",
     "text": [
      "(78, 512, 512, 3) (78, 512, 512, 1)\n",
      "final shape x_chips_verified, y_chips_verified: (78, 512, 512, 3) (78, 512, 512, 1)\n",
      "78\n",
      "Converting: 78 :files.\n"
     ]
    },
    {
     "name": "stderr",
     "output_type": "stream",
     "text": [
      "/usr/local/lib/python3.6/dist-packages/ipykernel_launcher.py:20: DeprecationWarning: Both axis > a.ndim and axis < -a.ndim - 1 are deprecated and will raise an AxisError in the future.\n"
     ]
    },
    {
     "name": "stdout",
     "output_type": "stream",
     "text": [
      "(26, 512, 512, 3) (26, 512, 512, 1)\n",
      "final shape x_chips_verified, y_chips_verified: (26, 512, 512, 3) (26, 512, 512, 1)\n",
      "26\n",
      "Converting: 26 :files.\n"
     ]
    },
    {
     "name": "stderr",
     "output_type": "stream",
     "text": [
      "/usr/local/lib/python3.6/dist-packages/ipykernel_launcher.py:20: DeprecationWarning: Both axis > a.ndim and axis < -a.ndim - 1 are deprecated and will raise an AxisError in the future.\n"
     ]
    },
    {
     "name": "stdout",
     "output_type": "stream",
     "text": [
      "(2, 512, 512, 3) (2, 512, 512, 1)\n",
      "final shape x_chips_verified, y_chips_verified: (2, 512, 512, 3) (2, 512, 512, 1)\n",
      "2\n",
      "Converting: 2 :files.\n"
     ]
    },
    {
     "name": "stderr",
     "output_type": "stream",
     "text": [
      "/usr/local/lib/python3.6/dist-packages/ipykernel_launcher.py:20: DeprecationWarning: Both axis > a.ndim and axis < -a.ndim - 1 are deprecated and will raise an AxisError in the future.\n"
     ]
    },
    {
     "name": "stdout",
     "output_type": "stream",
     "text": [
      "(46, 512, 512, 3) (46, 512, 512, 1)\n",
      "final shape x_chips_verified, y_chips_verified: (46, 512, 512, 3) (46, 512, 512, 1)\n",
      "46\n",
      "Converting: 46 :files.\n"
     ]
    },
    {
     "name": "stderr",
     "output_type": "stream",
     "text": [
      "/usr/local/lib/python3.6/dist-packages/ipykernel_launcher.py:20: DeprecationWarning: Both axis > a.ndim and axis < -a.ndim - 1 are deprecated and will raise an AxisError in the future.\n"
     ]
    },
    {
     "name": "stdout",
     "output_type": "stream",
     "text": [
      "(22, 512, 512, 3) (22, 512, 512, 1)\n",
      "final shape x_chips_verified, y_chips_verified: (22, 512, 512, 3) (22, 512, 512, 1)\n",
      "22\n",
      "Converting: 22 :files.\n",
      "('acc', 'ca041a')\n",
      "max dimensions: 65882 77778\n",
      "strides: 17 19\n"
     ]
    },
    {
     "name": "stderr",
     "output_type": "stream",
     "text": [
      "/usr/local/lib/python3.6/dist-packages/ipykernel_launcher.py:20: DeprecationWarning: Both axis > a.ndim and axis < -a.ndim - 1 are deprecated and will raise an AxisError in the future.\n"
     ]
    },
    {
     "name": "stdout",
     "output_type": "stream",
     "text": [
      "(38, 512, 512, 3) (38, 512, 512, 1)\n",
      "final shape x_chips_verified, y_chips_verified: (38, 512, 512, 3) (38, 512, 512, 1)\n",
      "38\n",
      "Converting: 38 :files.\n"
     ]
    },
    {
     "name": "stderr",
     "output_type": "stream",
     "text": [
      "/usr/local/lib/python3.6/dist-packages/ipykernel_launcher.py:20: DeprecationWarning: Both axis > a.ndim and axis < -a.ndim - 1 are deprecated and will raise an AxisError in the future.\n"
     ]
    },
    {
     "name": "stdout",
     "output_type": "stream",
     "text": [
      "(40, 512, 512, 3) (40, 512, 512, 1)\n",
      "final shape x_chips_verified, y_chips_verified: (40, 512, 512, 3) (40, 512, 512, 1)\n",
      "40\n",
      "Converting: 40 :files.\n"
     ]
    },
    {
     "name": "stderr",
     "output_type": "stream",
     "text": [
      "/usr/local/lib/python3.6/dist-packages/ipykernel_launcher.py:20: DeprecationWarning: Both axis > a.ndim and axis < -a.ndim - 1 are deprecated and will raise an AxisError in the future.\n"
     ]
    },
    {
     "name": "stdout",
     "output_type": "stream",
     "text": [
      "(10, 512, 512, 3) (10, 512, 512, 1)\n",
      "final shape x_chips_verified, y_chips_verified: (10, 512, 512, 3) (10, 512, 512, 1)\n",
      "10\n",
      "Converting: 10 :files.\n"
     ]
    },
    {
     "name": "stderr",
     "output_type": "stream",
     "text": [
      "/usr/local/lib/python3.6/dist-packages/ipykernel_launcher.py:32: DeprecationWarning: Both axis > a.ndim and axis < -a.ndim - 1 are deprecated and will raise an AxisError in the future.\n"
     ]
    },
    {
     "name": "stdout",
     "output_type": "stream",
     "text": [
      "(0,) (0, 1)\n"
     ]
    },
    {
     "name": "stderr",
     "output_type": "stream",
     "text": [
      "/usr/local/lib/python3.6/dist-packages/ipykernel_launcher.py:20: DeprecationWarning: Both axis > a.ndim and axis < -a.ndim - 1 are deprecated and will raise an AxisError in the future.\n"
     ]
    },
    {
     "name": "stdout",
     "output_type": "stream",
     "text": [
      "(16, 512, 512, 3) (16, 512, 512, 1)\n",
      "final shape x_chips_verified, y_chips_verified: (16, 512, 512, 3) (16, 512, 512, 1)\n",
      "16\n",
      "Converting: 16 :files.\n"
     ]
    },
    {
     "name": "stderr",
     "output_type": "stream",
     "text": [
      "/usr/local/lib/python3.6/dist-packages/ipykernel_launcher.py:20: DeprecationWarning: Both axis > a.ndim and axis < -a.ndim - 1 are deprecated and will raise an AxisError in the future.\n"
     ]
    },
    {
     "name": "stdout",
     "output_type": "stream",
     "text": [
      "(76, 512, 512, 3) (76, 512, 512, 1)\n",
      "final shape x_chips_verified, y_chips_verified: (76, 512, 512, 3) (76, 512, 512, 1)\n",
      "76\n",
      "Converting: 76 :files.\n"
     ]
    },
    {
     "name": "stderr",
     "output_type": "stream",
     "text": [
      "/usr/local/lib/python3.6/dist-packages/ipykernel_launcher.py:20: DeprecationWarning: Both axis > a.ndim and axis < -a.ndim - 1 are deprecated and will raise an AxisError in the future.\n"
     ]
    },
    {
     "name": "stdout",
     "output_type": "stream",
     "text": [
      "(84, 512, 512, 3) (84, 512, 512, 1)\n",
      "final shape x_chips_verified, y_chips_verified: (84, 512, 512, 3) (84, 512, 512, 1)\n",
      "84\n",
      "Converting: 84 :files.\n"
     ]
    },
    {
     "name": "stderr",
     "output_type": "stream",
     "text": [
      "/usr/local/lib/python3.6/dist-packages/ipykernel_launcher.py:20: DeprecationWarning: Both axis > a.ndim and axis < -a.ndim - 1 are deprecated and will raise an AxisError in the future.\n"
     ]
    },
    {
     "name": "stdout",
     "output_type": "stream",
     "text": [
      "(84, 512, 512, 3) (84, 512, 512, 1)\n",
      "final shape x_chips_verified, y_chips_verified: (84, 512, 512, 3) (84, 512, 512, 1)\n",
      "84\n",
      "Converting: 84 :files.\n"
     ]
    },
    {
     "name": "stderr",
     "output_type": "stream",
     "text": [
      "/usr/local/lib/python3.6/dist-packages/ipykernel_launcher.py:20: DeprecationWarning: Both axis > a.ndim and axis < -a.ndim - 1 are deprecated and will raise an AxisError in the future.\n"
     ]
    },
    {
     "name": "stdout",
     "output_type": "stream",
     "text": [
      "(76, 512, 512, 3) (76, 512, 512, 1)\n",
      "final shape x_chips_verified, y_chips_verified: (76, 512, 512, 3) (76, 512, 512, 1)\n",
      "76\n",
      "Converting: 76 :files.\n"
     ]
    },
    {
     "name": "stderr",
     "output_type": "stream",
     "text": [
      "/usr/local/lib/python3.6/dist-packages/ipykernel_launcher.py:20: DeprecationWarning: Both axis > a.ndim and axis < -a.ndim - 1 are deprecated and will raise an AxisError in the future.\n"
     ]
    },
    {
     "name": "stdout",
     "output_type": "stream",
     "text": [
      "(102, 512, 512, 3) (102, 512, 512, 1)\n",
      "final shape x_chips_verified, y_chips_verified: (102, 512, 512, 3) (102, 512, 512, 1)\n",
      "102\n",
      "Converting: 102 :files.\n"
     ]
    },
    {
     "name": "stderr",
     "output_type": "stream",
     "text": [
      "/usr/local/lib/python3.6/dist-packages/ipykernel_launcher.py:20: DeprecationWarning: Both axis > a.ndim and axis < -a.ndim - 1 are deprecated and will raise an AxisError in the future.\n"
     ]
    },
    {
     "name": "stdout",
     "output_type": "stream",
     "text": [
      "(80, 512, 512, 3) (80, 512, 512, 1)\n",
      "final shape x_chips_verified, y_chips_verified: (80, 512, 512, 3) (80, 512, 512, 1)\n",
      "80\n",
      "Converting: 80 :files.\n"
     ]
    },
    {
     "name": "stderr",
     "output_type": "stream",
     "text": [
      "/usr/local/lib/python3.6/dist-packages/ipykernel_launcher.py:20: DeprecationWarning: Both axis > a.ndim and axis < -a.ndim - 1 are deprecated and will raise an AxisError in the future.\n"
     ]
    },
    {
     "name": "stdout",
     "output_type": "stream",
     "text": [
      "(18, 512, 512, 3) (18, 512, 512, 1)\n",
      "final shape x_chips_verified, y_chips_verified: (18, 512, 512, 3) (18, 512, 512, 1)\n",
      "18\n",
      "Converting: 18 :files.\n",
      "('znz', 'aee7fd')\n",
      "max dimensions: 40551 40592\n",
      "strides: 10 10\n",
      "('znz', '3f8360')\n",
      "max dimensions: 33220 38104\n",
      "strides: 9 10\n"
     ]
    },
    {
     "name": "stderr",
     "output_type": "stream",
     "text": [
      "/usr/local/lib/python3.6/dist-packages/ipykernel_launcher.py:20: DeprecationWarning: Both axis > a.ndim and axis < -a.ndim - 1 are deprecated and will raise an AxisError in the future.\n"
     ]
    },
    {
     "name": "stdout",
     "output_type": "stream",
     "text": [
      "(2, 512, 512, 3) (2, 512, 512, 1)\n",
      "final shape x_chips_verified, y_chips_verified: (2, 512, 512, 3) (2, 512, 512, 1)\n",
      "2\n",
      "Converting: 2 :files.\n",
      "('mon', '493701')\n",
      "max dimensions: 22333 21783\n",
      "strides: 6 6\n"
     ]
    },
    {
     "name": "stderr",
     "output_type": "stream",
     "text": [
      "/usr/local/lib/python3.6/dist-packages/ipykernel_launcher.py:20: DeprecationWarning: Both axis > a.ndim and axis < -a.ndim - 1 are deprecated and will raise an AxisError in the future.\n"
     ]
    },
    {
     "name": "stdout",
     "output_type": "stream",
     "text": [
      "(8, 512, 512, 3) (8, 512, 512, 1)\n",
      "final shape x_chips_verified, y_chips_verified: (8, 512, 512, 3) (8, 512, 512, 1)\n",
      "8\n",
      "Converting: 8 :files.\n"
     ]
    },
    {
     "name": "stderr",
     "output_type": "stream",
     "text": [
      "/usr/local/lib/python3.6/dist-packages/ipykernel_launcher.py:20: DeprecationWarning: Both axis > a.ndim and axis < -a.ndim - 1 are deprecated and will raise an AxisError in the future.\n"
     ]
    },
    {
     "name": "stdout",
     "output_type": "stream",
     "text": [
      "(114, 512, 512, 3) (114, 512, 512, 1)\n",
      "final shape x_chips_verified, y_chips_verified: (114, 512, 512, 3) (114, 512, 512, 1)\n",
      "114\n",
      "Converting: 114 :files.\n"
     ]
    },
    {
     "name": "stderr",
     "output_type": "stream",
     "text": [
      "/usr/local/lib/python3.6/dist-packages/ipykernel_launcher.py:20: DeprecationWarning: Both axis > a.ndim and axis < -a.ndim - 1 are deprecated and will raise an AxisError in the future.\n"
     ]
    },
    {
     "name": "stdout",
     "output_type": "stream",
     "text": [
      "(124, 512, 512, 3) (124, 512, 512, 1)\n",
      "final shape x_chips_verified, y_chips_verified: (124, 512, 512, 3) (124, 512, 512, 1)\n",
      "124\n",
      "Converting: 124 :files.\n"
     ]
    },
    {
     "name": "stderr",
     "output_type": "stream",
     "text": [
      "/usr/local/lib/python3.6/dist-packages/ipykernel_launcher.py:20: DeprecationWarning: Both axis > a.ndim and axis < -a.ndim - 1 are deprecated and will raise an AxisError in the future.\n"
     ]
    },
    {
     "name": "stdout",
     "output_type": "stream",
     "text": [
      "(98, 512, 512, 3) (98, 512, 512, 1)\n",
      "final shape x_chips_verified, y_chips_verified: (98, 512, 512, 3) (98, 512, 512, 1)\n",
      "98\n",
      "Converting: 98 :files.\n"
     ]
    },
    {
     "name": "stderr",
     "output_type": "stream",
     "text": [
      "/usr/local/lib/python3.6/dist-packages/ipykernel_launcher.py:20: DeprecationWarning: Both axis > a.ndim and axis < -a.ndim - 1 are deprecated and will raise an AxisError in the future.\n"
     ]
    },
    {
     "name": "stdout",
     "output_type": "stream",
     "text": [
      "(48, 512, 512, 3) (48, 512, 512, 1)\n",
      "final shape x_chips_verified, y_chips_verified: (48, 512, 512, 3) (48, 512, 512, 1)\n",
      "48\n",
      "Converting: 48 :files.\n"
     ]
    },
    {
     "name": "stderr",
     "output_type": "stream",
     "text": [
      "/usr/local/lib/python3.6/dist-packages/ipykernel_launcher.py:32: DeprecationWarning: Both axis > a.ndim and axis < -a.ndim - 1 are deprecated and will raise an AxisError in the future.\n"
     ]
    },
    {
     "name": "stdout",
     "output_type": "stream",
     "text": [
      "(0,) (0, 1)\n"
     ]
    },
    {
     "name": "stderr",
     "output_type": "stream",
     "text": [
      "/usr/local/lib/python3.6/dist-packages/ipykernel_launcher.py:20: DeprecationWarning: Both axis > a.ndim and axis < -a.ndim - 1 are deprecated and will raise an AxisError in the future.\n"
     ]
    },
    {
     "name": "stdout",
     "output_type": "stream",
     "text": [
      "(78, 512, 512, 3) (78, 512, 512, 1)\n",
      "final shape x_chips_verified, y_chips_verified: (78, 512, 512, 3) (78, 512, 512, 1)\n",
      "78\n",
      "Converting: 78 :files.\n"
     ]
    },
    {
     "name": "stderr",
     "output_type": "stream",
     "text": [
      "/usr/local/lib/python3.6/dist-packages/ipykernel_launcher.py:20: DeprecationWarning: Both axis > a.ndim and axis < -a.ndim - 1 are deprecated and will raise an AxisError in the future.\n"
     ]
    },
    {
     "name": "stdout",
     "output_type": "stream",
     "text": [
      "(126, 512, 512, 3) (126, 512, 512, 1)\n",
      "final shape x_chips_verified, y_chips_verified: (126, 512, 512, 3) (126, 512, 512, 1)\n",
      "126\n",
      "Converting: 126 :files.\n"
     ]
    },
    {
     "name": "stderr",
     "output_type": "stream",
     "text": [
      "/usr/local/lib/python3.6/dist-packages/ipykernel_launcher.py:20: DeprecationWarning: Both axis > a.ndim and axis < -a.ndim - 1 are deprecated and will raise an AxisError in the future.\n"
     ]
    },
    {
     "name": "stdout",
     "output_type": "stream",
     "text": [
      "(104, 512, 512, 3) (104, 512, 512, 1)\n",
      "final shape x_chips_verified, y_chips_verified: (104, 512, 512, 3) (104, 512, 512, 1)\n",
      "104\n",
      "Converting: 104 :files.\n"
     ]
    },
    {
     "name": "stderr",
     "output_type": "stream",
     "text": [
      "/usr/local/lib/python3.6/dist-packages/ipykernel_launcher.py:20: DeprecationWarning: Both axis > a.ndim and axis < -a.ndim - 1 are deprecated and will raise an AxisError in the future.\n"
     ]
    },
    {
     "name": "stdout",
     "output_type": "stream",
     "text": [
      "(106, 512, 512, 3) (106, 512, 512, 1)\n",
      "final shape x_chips_verified, y_chips_verified: (106, 512, 512, 3) (106, 512, 512, 1)\n",
      "106\n",
      "Converting: 106 :files.\n"
     ]
    },
    {
     "name": "stderr",
     "output_type": "stream",
     "text": [
      "/usr/local/lib/python3.6/dist-packages/ipykernel_launcher.py:20: DeprecationWarning: Both axis > a.ndim and axis < -a.ndim - 1 are deprecated and will raise an AxisError in the future.\n"
     ]
    },
    {
     "name": "stdout",
     "output_type": "stream",
     "text": [
      "(54, 512, 512, 3) (54, 512, 512, 1)\n",
      "final shape x_chips_verified, y_chips_verified: (54, 512, 512, 3) (54, 512, 512, 1)\n",
      "54\n",
      "Converting: 54 :files.\n"
     ]
    },
    {
     "name": "stderr",
     "output_type": "stream",
     "text": [
      "/usr/local/lib/python3.6/dist-packages/ipykernel_launcher.py:20: DeprecationWarning: Both axis > a.ndim and axis < -a.ndim - 1 are deprecated and will raise an AxisError in the future.\n"
     ]
    },
    {
     "name": "stdout",
     "output_type": "stream",
     "text": [
      "(8, 512, 512, 3) (8, 512, 512, 1)\n",
      "final shape x_chips_verified, y_chips_verified: (8, 512, 512, 3) (8, 512, 512, 1)\n",
      "8\n",
      "Converting: 8 :files.\n"
     ]
    },
    {
     "name": "stderr",
     "output_type": "stream",
     "text": [
      "/usr/local/lib/python3.6/dist-packages/ipykernel_launcher.py:20: DeprecationWarning: Both axis > a.ndim and axis < -a.ndim - 1 are deprecated and will raise an AxisError in the future.\n"
     ]
    },
    {
     "name": "stdout",
     "output_type": "stream",
     "text": [
      "(28, 512, 512, 3) (28, 512, 512, 1)\n",
      "final shape x_chips_verified, y_chips_verified: (28, 512, 512, 3) (28, 512, 512, 1)\n",
      "28\n",
      "Converting: 28 :files.\n"
     ]
    },
    {
     "name": "stderr",
     "output_type": "stream",
     "text": [
      "/usr/local/lib/python3.6/dist-packages/ipykernel_launcher.py:20: DeprecationWarning: Both axis > a.ndim and axis < -a.ndim - 1 are deprecated and will raise an AxisError in the future.\n"
     ]
    },
    {
     "name": "stdout",
     "output_type": "stream",
     "text": [
      "(106, 512, 512, 3) (106, 512, 512, 1)\n",
      "final shape x_chips_verified, y_chips_verified: (106, 512, 512, 3) (106, 512, 512, 1)\n",
      "106\n",
      "Converting: 106 :files.\n"
     ]
    },
    {
     "name": "stderr",
     "output_type": "stream",
     "text": [
      "/usr/local/lib/python3.6/dist-packages/ipykernel_launcher.py:20: DeprecationWarning: Both axis > a.ndim and axis < -a.ndim - 1 are deprecated and will raise an AxisError in the future.\n"
     ]
    },
    {
     "name": "stdout",
     "output_type": "stream",
     "text": [
      "(68, 512, 512, 3) (68, 512, 512, 1)\n",
      "final shape x_chips_verified, y_chips_verified: (68, 512, 512, 3) (68, 512, 512, 1)\n",
      "68\n",
      "Converting: 68 :files.\n"
     ]
    },
    {
     "name": "stderr",
     "output_type": "stream",
     "text": [
      "/usr/local/lib/python3.6/dist-packages/ipykernel_launcher.py:20: DeprecationWarning: Both axis > a.ndim and axis < -a.ndim - 1 are deprecated and will raise an AxisError in the future.\n"
     ]
    },
    {
     "name": "stdout",
     "output_type": "stream",
     "text": [
      "(50, 512, 512, 3) (50, 512, 512, 1)\n",
      "final shape x_chips_verified, y_chips_verified: (50, 512, 512, 3) (50, 512, 512, 1)\n",
      "50\n",
      "Converting: 50 :files.\n"
     ]
    },
    {
     "name": "stderr",
     "output_type": "stream",
     "text": [
      "/usr/local/lib/python3.6/dist-packages/ipykernel_launcher.py:20: DeprecationWarning: Both axis > a.ndim and axis < -a.ndim - 1 are deprecated and will raise an AxisError in the future.\n"
     ]
    },
    {
     "name": "stdout",
     "output_type": "stream",
     "text": [
      "(12, 512, 512, 3) (12, 512, 512, 1)\n",
      "final shape x_chips_verified, y_chips_verified: (12, 512, 512, 3) (12, 512, 512, 1)\n",
      "12\n",
      "Converting: 12 :files.\n"
     ]
    }
   ],
   "source": [
    "create_meta_image(S = 4096, test = True, ISZ = 512)"
   ]
  },
  {
   "cell_type": "code",
   "execution_count": 107,
   "metadata": {},
   "outputs": [
    {
     "name": "stdout",
     "output_type": "stream",
     "text": [
      "[(1.5, 6.5), (2.5, 7.5), (3.5, 8.5), (4.5, 9.5), (5.5, 10.5)]\n"
     ]
    },
    {
     "data": {
      "text/plain": [
       "[1.5, 6.5, 2.5, 7.5, 3.5, 8.5, 4.5, 9.5, 5.5, 10.5]"
      ]
     },
     "execution_count": 107,
     "metadata": {},
     "output_type": "execute_result"
    }
   ],
   "source": [
    "px = [1, 2, 3, 4, 5]\n",
    "py = [6, 7, 8, 9, 10]\n",
    "\n",
    "\n",
    "poly = [(x + 0.5, y + 0.5) for x, y in zip(px, py)]\n",
    "print(poly)\n",
    "\n",
    "poly = [p for x in poly for p in x]\n",
    "\n",
    "poly"
   ]
  },
  {
   "cell_type": "code",
   "execution_count": null,
   "metadata": {},
   "outputs": [],
   "source": [
    "for a in range(15):\n",
    "    print('DONE DONE DONE DONE DONE')"
   ]
  },
  {
   "cell_type": "code",
   "execution_count": null,
   "metadata": {},
   "outputs": [],
   "source": []
  },
  {
   "cell_type": "code",
   "execution_count": null,
   "metadata": {},
   "outputs": [],
   "source": []
  },
  {
   "cell_type": "code",
   "execution_count": null,
   "metadata": {},
   "outputs": [],
   "source": []
  },
  {
   "cell_type": "code",
   "execution_count": null,
   "metadata": {},
   "outputs": [],
   "source": []
  },
  {
   "cell_type": "code",
   "execution_count": null,
   "metadata": {},
   "outputs": [],
   "source": []
  },
  {
   "cell_type": "code",
   "execution_count": null,
   "metadata": {},
   "outputs": [],
   "source": []
  },
  {
   "cell_type": "code",
   "execution_count": null,
   "metadata": {},
   "outputs": [],
   "source": []
  },
  {
   "cell_type": "code",
   "execution_count": null,
   "metadata": {},
   "outputs": [],
   "source": []
  },
  {
   "cell_type": "code",
   "execution_count": null,
   "metadata": {
    "jupyter": {
     "source_hidden": true
    }
   },
   "outputs": [],
   "source": [
    "[('znz', 'bd5c14'), ('nia', '825a50'), ('kam', '4e7c7f'), ('znz', 'bc32f1'), ('znz', 'c7415c'), ('znz', '75cdfa'), ('mon', '493701'), ('znz', '9b8638'), ('acc', 'd41d81'), ('acc', 'ca041a'), ('znz', 'aee7fd'), ('dar', '42f235'), ('acc', 'a42435'), ('znz', '3f8360'), ('znz', '06f252'), ('znz', '076995'), ('mon', 'f15272'), ('znz', '33cae6'), ('dar', 'b15fce'), ('acc', '665946'), ('ptn', 'abe1a3'), ('ptn', 'f49f31'), ('dar', '353093'), ('znz', '425403'), ('znz', '3b20d4')]\n",
    "('znz', 'bd5c14')\n",
    "max dimensions: 38249 38276\n",
    "strides: 8\n",
    "('nia', '825a50')\n",
    "max dimensions: 8927 14848\n",
    "strides: 2\n",
    "('kam', '4e7c7f')\n",
    "max dimensions: 39270 40024\n",
    "strides: 8\n",
    "('znz', 'bc32f1')\n",
    "max dimensions: 40180 40155\n",
    "strides: 9\n",
    "('znz', 'c7415c')\n",
    "max dimensions: 33449 46458\n",
    "strides: 7\n",
    "('znz', '75cdfa')\n",
    "max dimensions: 49709 49743\n",
    "strides: 10\n",
    "('mon', '493701')\n",
    "max dimensions: 22333 21783\n",
    "strides: 5\n",
    "('znz', '9b8638')\n",
    "max dimensions: 36100 45163\n",
    "strides: 8\n",
    "('acc', 'd41d81')\n",
    "max dimensions: 40868 42719\n",
    "strides: 9\n",
    "('acc', 'ca041a')\n",
    "max dimensions: 65882 77778\n",
    "strides: 14\n",
    "('znz', 'aee7fd')\n",
    "max dimensions: 40551 40592\n",
    "strides: 9\n",
    "('dar', '42f235')\n",
    "max dimensions: 51203 47750\n",
    "strides: 11\n",
    "('acc', 'a42435')\n",
    "max dimensions: 57540 39162\n",
    "strides: 12\n",
    "('znz', '3f8360')\n",
    "max dimensions: 33220 38104\n",
    "strides: 7\n",
    "('znz', '06f252')\n",
    "max dimensions: 50692 50642\n",
    "strides: 11\n",
    "('znz', '076995')\n",
    "max dimensions: 39020 46763\n",
    "strides: 8\n",
    "('mon', 'f15272')\n",
    "max dimensions: 20418 17953\n",
    "strides: 5\n",
    "('znz', '33cae6')\n",
    "max dimensions: 37113 34306\n",
    "strides: 8\n",
    "('dar', 'b15fce')\n",
    "max dimensions: 44870 42558\n",
    "strides: 9\n",
    "('acc', '665946')\n",
    "max dimensions: 84466 150147\n",
    "strides: 17\n",
    "('ptn', 'abe1a3')\n",
    "max dimensions: 7840 7787\n",
    "strides: 2\n",
    "('ptn', 'f49f31')\n",
    "max dimensions: 6605 4185\n",
    "strides: 2\n",
    "('dar', '353093')\n",
    "max dimensions: 52969 59329\n",
    "strides: 11\n",
    "('znz', '425403')\n",
    "max dimensions: 39850 39878\n",
    "strides: 8\n",
    "('znz', '3b20d4')\n",
    "max dimensions: 44162 44134\n",
    "strides: 9"
   ]
  }
 ],
 "metadata": {
  "kernelspec": {
   "display_name": "Python 3",
   "language": "python",
   "name": "python3"
  },
  "language_info": {
   "codemirror_mode": {
    "name": "ipython",
    "version": 3
   },
   "file_extension": ".py",
   "mimetype": "text/x-python",
   "name": "python",
   "nbconvert_exporter": "python",
   "pygments_lexer": "ipython3",
   "version": "3.6.8"
  }
 },
 "nbformat": 4,
 "nbformat_minor": 4
}
